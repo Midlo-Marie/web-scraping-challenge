{
 "cells": [
  {
   "cell_type": "markdown",
   "metadata": {},
   "source": [
    "## UR Data Analytics Homework #12: Web Scraping\n",
    "### Introduction to Beautiful Soup, Splinter, and MongoDB\n",
    "*Submitted by MidloMarie, October, 2019*"
   ]
  },
  {
   "cell_type": "code",
   "execution_count": null,
   "metadata": {},
   "outputs": [],
   "source": [
    "## *Mission to Mars*\n",
    "> In this assignment, we build a web application that scrapes various websites for data related\n",
    "> to NASA's Mission to Mars and displays the information in a single HTML page."
   ]
  },
  {
   "cell_type": "code",
   "execution_count": 1,
   "metadata": {},
   "outputs": [],
   "source": [
    "# Dependencies and Setup\n",
    "from bs4 import BeautifulSoup\n",
    "from splinter import Browser\n",
    "import pandas as pd"
   ]
  },
  {
   "cell_type": "code",
   "execution_count": 2,
   "metadata": {},
   "outputs": [],
   "source": [
    "# Set Executable Path & Initialize Chrome Browser to view and control desired Web pages\n",
    "executable_path = {\"executable_path\": \"./chromedriver.exe\"}\n",
    "browser = Browser(\"chrome\", **executable_path)"
   ]
  },
  {
   "cell_type": "code",
   "execution_count": 3,
   "metadata": {},
   "outputs": [],
   "source": [
    "# Visit the NASA Mars News Site\n",
    "url = \"https://mars.nasa.gov/news/\"\n",
    "browser.visit(url)"
   ]
  },
  {
   "cell_type": "markdown",
   "metadata": {},
   "source": [
    "### What's going on with NASA Mars missions?\n",
    "**Let's look at the News on the mars.nasa.gov web page and get the most recent article**\n",
    "> From \"inspection\" of activated NASA Mars Web page and using Devtools, we note that the Title \n",
    "> and \"teaser\" body of each article are found under the \n",
    ">      ul class=\"item list\" li class=slide\n",
    ">         div class=\"content title\"\n",
    ">         div class=\"article_teaser_body\""
   ]
  },
  {
   "cell_type": "code",
   "execution_count": 6,
   "metadata": {},
   "outputs": [],
   "source": [
    "# Parse Results HTML with BeautifulSoup\n",
    "#   <ul class=\"item_list\">\n",
    "#     <li class=\"slide\">\n",
    "\n",
    "html = browser.html\n",
    "NASAnews_soup = BeautifulSoup(html, \"html.parser\")\n",
    "grid_element = NASAnews_soup.select_one(\"ul.item_list li.slide\")"
   ]
  },
  {
   "cell_type": "code",
   "execution_count": 7,
   "metadata": {},
   "outputs": [
    {
     "name": "stdout",
     "output_type": "stream",
     "text": [
      "<li class=\"slide\">\n",
      " <div class=\"image_and_description_container\">\n",
      "  <a href=\"/news/8531/mars-2020-unwrapped-and-ready-for-more-testing/\" target=\"_self\">\n",
      "   <div class=\"rollover_description\">\n",
      "    <div class=\"rollover_description_inner\">\n",
      "     In time-lapse video, bunny-suited engineers remove the inner layer of protective foil on NASA's Mars 2020 rover after it was relocated for testing.\n",
      "    </div>\n",
      "    <div class=\"overlay_arrow\">\n",
      "     <img alt=\"More\" src=\"/assets/overlay-arrow.png\"/>\n",
      "    </div>\n",
      "   </div>\n",
      "   <div class=\"list_image\">\n",
      "    <img alt=\"Mars 2020 Unwrapped and Ready for Testing: In time-lapse video bunny-suited engineers remove the inner layer of protective foil on NASA's Mars 2020 rover after it was moved to a different building at JPL for testing.\" src=\"/system/news_items/list_view_images/8531_PIA23467-320x240.gif\"/>\n",
      "   </div>\n",
      "   <div class=\"bottom_gradient\">\n",
      "    <div>\n",
      "     <h3>\n",
      "      Mars 2020 Unwrapped and Ready for More Testing\n",
      "     </h3>\n",
      "    </div>\n",
      "   </div>\n",
      "  </a>\n",
      "  <div class=\"list_text\">\n",
      "   <div class=\"list_date\">\n",
      "    October 18, 2019\n",
      "   </div>\n",
      "   <div class=\"content_title\">\n",
      "    <a href=\"/news/8531/mars-2020-unwrapped-and-ready-for-more-testing/\" target=\"_self\">\n",
      "     Mars 2020 Unwrapped and Ready for More Testing\n",
      "    </a>\n",
      "   </div>\n",
      "   <div class=\"article_teaser_body\">\n",
      "    In time-lapse video, bunny-suited engineers remove the inner layer of protective foil on NASA's Mars 2020 rover after it was relocated for testing.\n",
      "   </div>\n",
      "  </div>\n",
      " </div>\n",
      "</li>\n",
      "\n"
     ]
    }
   ],
   "source": [
    "print(grid_element.prettify())"
   ]
  },
  {
   "cell_type": "code",
   "execution_count": 8,
   "metadata": {},
   "outputs": [
    {
     "name": "stdout",
     "output_type": "stream",
     "text": [
      "From mars.nasa.gov on October 18, 2019 we learn that: \n",
      "\t'Mars 2020 Unwrapped and Ready for More Testing'\n",
      "\tIn time-lapse video, bunny-suited engineers remove the inner layer of protective foil on NASA's Mars 2020 rover after it was relocated for testing.\n"
     ]
    }
   ],
   "source": [
    "# Now find just the title of the latest article (first one in the list) and article text\n",
    "news_date = grid_element.find(\"div\", class_=\"list_date\").get_text()\n",
    "news_title = grid_element.find(\"div\", class_=\"content_title\").get_text()\n",
    "news_teaser = grid_element.find(\"div\", class_=\"article_teaser_body\").get_text()\n",
    "\n",
    "print(f\"From mars.nasa.gov on {news_date} we learn that: \\n\\t'{news_title}'\")\n",
    "print(f\"\\t{news_teaser}\")"
   ]
  },
  {
   "cell_type": "markdown",
   "metadata": {},
   "source": [
    "### What does Mars look like?  Any featured images associated with our article?\n",
    "**Let's look at the images on the jpl.nasa.gov web page and look at recent images**\n",
    "> From \"inspection\" of activated NASA JPL Web page and using Devtools, we find the \n",
    "> featured image at the top of the page is id'd as a \"full_image\". \n",
    "> The featured image may not be the same as the latest news article on the NASA news page."
   ]
  },
  {
   "cell_type": "code",
   "execution_count": 9,
   "metadata": {},
   "outputs": [],
   "source": [
    "## Now we look for space imagery from NASA Jet Propulsion Laboratory Featured Space Image site\n",
    "executable_path = {\"executable_path\": \"./chromedriver.exe\"}\n",
    "browser = Browser(\"chrome\", **executable_path)\n",
    "url = \"https://www.jpl.nasa.gov/spaceimages/?search=&category=Mars\"\n",
    "browser.visit(url)"
   ]
  },
  {
   "cell_type": "code",
   "execution_count": 10,
   "metadata": {},
   "outputs": [],
   "source": [
    "# Use Splinter to find the featured image by its id='full_image' in the HTML code\n",
    "# <button class=\"full_image\">Full Image</button>\n",
    "full_image_button = browser.find_by_id(\"full_image\")\n",
    "full_image_button.click()"
   ]
  },
  {
   "cell_type": "code",
   "execution_count": 11,
   "metadata": {},
   "outputs": [],
   "source": [
    "# Find \"More Info\" Button and Click It\n",
    "browser.is_element_present_by_text(\"more info\", wait_time=1)\n",
    "more_info_element = browser.find_link_by_partial_text(\"more info\")\n",
    "more_info_element.click()"
   ]
  },
  {
   "cell_type": "code",
   "execution_count": 21,
   "metadata": {},
   "outputs": [
    {
     "data": {
      "text/plain": [
       "'https://www.jpl.nasa.gov/spaceimages/images/largesize/PIA07137_hires.jpg'"
      ]
     },
     "execution_count": 21,
     "metadata": {},
     "output_type": "execute_result"
    }
   ],
   "source": [
    "# Parse Results HTML with BeautifulSoup\n",
    "html = browser.html\n",
    "image_soup = BeautifulSoup(html, \"html.parser\")\n",
    "\n",
    "img_url = image_soup.select_one(\"figure.lede a img\").get(\"src\")\n",
    "img_url = f\"https://www.jpl.nasa.gov{img_url}\"\n",
    "img_url"
   ]
  },
  {
   "cell_type": "markdown",
   "metadata": {},
   "source": [
    "<img src= \"https://www.jpl.nasa.gov/spaceimages/images/largesize/PIA07137_hires.jpg\" \n",
    "    title=\"Featured image\" width=\"250\" height=\"150\" align = \"center\" />"
   ]
  },
  {
   "cell_type": "markdown",
   "metadata": {},
   "source": [
    "### Now let's find out about Martian weather from the Mars Twitter account"
   ]
  },
  {
   "cell_type": "code",
   "execution_count": 31,
   "metadata": {},
   "outputs": [],
   "source": [
    "# Set Executable Path & Initialize Chrome Browser to view and control desired Web pages\n",
    "executable_path = {\"executable_path\": \"./chromedriver.exe\"}\n",
    "browser = Browser(\"chrome\", **executable_path)\n",
    "url = \"https://twitter.com/marswxreport?lang=en\"\n",
    "browser.visit(url)"
   ]
  },
  {
   "cell_type": "code",
   "execution_count": 32,
   "metadata": {},
   "outputs": [],
   "source": [
    "# Parse Results HTML with BeautifulSoup\n",
    "html = browser.html\n",
    "weather_soup = BeautifulSoup(html, \"html.parser\")\n",
    "# print(weather_soup.prettify())"
   ]
  },
  {
   "cell_type": "code",
   "execution_count": 33,
   "metadata": {},
   "outputs": [],
   "source": [
    "# Find a Tweet with the data-name `Mars Weather`\n",
    "mars_weather_tweet = weather_soup.find(\"div\", \n",
    "                                       attrs={\n",
    "                                           \"class\": \"tweet\", \n",
    "                                            \"data-name\": \"Mars Weather\"\n",
    "                                        })\n",
    "# print(mars_weather_tweet.prettify())"
   ]
  },
  {
   "cell_type": "code",
   "execution_count": 34,
   "metadata": {},
   "outputs": [
    {
     "name": "stdout",
     "output_type": "stream",
     "text": [
      "InSight sol 319 (2019-10-19) low -101.5ºC (-150.7ºF) high -25.5ºC (-13.9ºF)\n",
      "winds from the SSE at 4.6 m/s (10.4 mph) gusting to 18.4 m/s (41.2 mph)\n",
      "pressure at 7.10 hPapic.twitter.com/gdBUdujdVM\n"
     ]
    }
   ],
   "source": [
    "# Search Within Tweet for <p> Tag Containing Tweet Text\n",
    "mars_weather = mars_weather_tweet.find(\"p\", \"tweet-text\").get_text()\n",
    "print(mars_weather)"
   ]
  },
  {
   "cell_type": "code",
   "execution_count": null,
   "metadata": {},
   "outputs": [],
   "source": [
    "## Now look at Mars Facts site to scrape the table for data about the planet including size, mass.  \n",
    "* Use Pandas to convert the data to an HTML table string"
   ]
  },
  {
   "cell_type": "code",
   "execution_count": 35,
   "metadata": {},
   "outputs": [
    {
     "name": "stdout",
     "output_type": "stream",
     "text": [
      "  Mars - Earth Comparison             Mars            Earth\n",
      "0               Diameter:         6,779 km        12,742 km\n",
      "1                   Mass:  6.39 × 10^23 kg  5.97 × 10^24 kg\n",
      "2                  Moons:                2                1\n",
      "3      Distance from Sun:   227,943,824 km   149,598,262 km\n",
      "4         Length of Year:   687 Earth days      365.24 days\n",
      "5            Temperature:    -153 to 20 °C      -88 to 58°C\n"
     ]
    },
    {
     "data": {
      "text/html": [
       "<div>\n",
       "<style scoped>\n",
       "    .dataframe tbody tr th:only-of-type {\n",
       "        vertical-align: middle;\n",
       "    }\n",
       "\n",
       "    .dataframe tbody tr th {\n",
       "        vertical-align: top;\n",
       "    }\n",
       "\n",
       "    .dataframe thead th {\n",
       "        text-align: right;\n",
       "    }\n",
       "</style>\n",
       "<table border=\"1\" class=\"dataframe\">\n",
       "  <thead>\n",
       "    <tr style=\"text-align: right;\">\n",
       "      <th></th>\n",
       "      <th>Mars</th>\n",
       "    </tr>\n",
       "    <tr>\n",
       "      <th>Description</th>\n",
       "      <th></th>\n",
       "    </tr>\n",
       "  </thead>\n",
       "  <tbody>\n",
       "    <tr>\n",
       "      <th>Diameter:</th>\n",
       "      <td>6,779 km</td>\n",
       "    </tr>\n",
       "    <tr>\n",
       "      <th>Mass:</th>\n",
       "      <td>6.39 × 10^23 kg</td>\n",
       "    </tr>\n",
       "    <tr>\n",
       "      <th>Moons:</th>\n",
       "      <td>2</td>\n",
       "    </tr>\n",
       "    <tr>\n",
       "      <th>Distance from Sun:</th>\n",
       "      <td>227,943,824 km</td>\n",
       "    </tr>\n",
       "    <tr>\n",
       "      <th>Length of Year:</th>\n",
       "      <td>687 Earth days</td>\n",
       "    </tr>\n",
       "    <tr>\n",
       "      <th>Temperature:</th>\n",
       "      <td>-153 to 20 °C</td>\n",
       "    </tr>\n",
       "  </tbody>\n",
       "</table>\n",
       "</div>"
      ],
      "text/plain": [
       "                               Mars\n",
       "Description                        \n",
       "Diameter:                  6,779 km\n",
       "Mass:               6.39 × 10^23 kg\n",
       "Moons:                            2\n",
       "Distance from Sun:   227,943,824 km\n",
       "Length of Year:      687 Earth days\n",
       "Temperature:          -153 to 20 °C"
      ]
     },
     "execution_count": 35,
     "metadata": {},
     "output_type": "execute_result"
    }
   ],
   "source": [
    "mars_df = pd.read_html(\"https://space-facts.com/mars/\")[0]\n",
    "print(mars_df)\n",
    "mars_df.columns=[\"Description\", \"Mars\", \"Earth\"]\n",
    "# mars_df\n",
    "mars_facts_df=mars_df.drop(columns=[\"Earth\"])\n",
    "mars_facts_df.set_index(\"Description\",inplace=True)\n",
    "mars_facts_df"
   ]
  },
  {
   "cell_type": "code",
   "execution_count": 36,
   "metadata": {},
   "outputs": [],
   "source": [
    "# Output table in HTML format\n",
    "mars_facts_df.to_html(open('mars_facts.html', 'w'))"
   ]
  },
  {
   "cell_type": "markdown",
   "metadata": {},
   "source": [
    "## Look for images of Mars Hemispheres\n",
    "> The two hemispheres of Mars are dramatically different from each other—a characteristic not seen on any other planet in our\n",
    "> solar system. Non-volcanic, flat lowlands characterize the northern hemisphere, while highlands punctuated by countless \n",
    "> volcanoes extend across the southern hemisphere.Jan 29, 2015\n",
    "> https://www.futurity.org/mars-hemispheres-846802/\n"
   ]
  },
  {
   "cell_type": "code",
   "execution_count": 37,
   "metadata": {},
   "outputs": [],
   "source": [
    "# Visit the USGS Astrogeology Science Center Site\n",
    "executable_path = {\"executable_path\": \"./chromedriver.exe\"}\n",
    "browser = Browser(\"chrome\", **executable_path, headless=False)\n",
    "url = \"https://astrogeology.usgs.gov/search/results?q=hemisphere+enhanced&k1=target&v1=Mars\"\n",
    "browser.visit(url)"
   ]
  },
  {
   "cell_type": "code",
   "execution_count": 38,
   "metadata": {},
   "outputs": [
    {
     "name": "stdout",
     "output_type": "stream",
     "text": [
      "[{'img_url': 'http://astropedia.astrogeology.usgs.gov/download/Mars/Viking/cerberus_enhanced.tif/full.jpg', 'title': 'Cerberus Hemisphere Enhanced'}, {'img_url': 'http://astropedia.astrogeology.usgs.gov/download/Mars/Viking/schiaparelli_enhanced.tif/full.jpg', 'title': 'Schiaparelli Hemisphere Enhanced'}, {'img_url': 'http://astropedia.astrogeology.usgs.gov/download/Mars/Viking/syrtis_major_enhanced.tif/full.jpg', 'title': 'Syrtis Major Hemisphere Enhanced'}, {'img_url': 'http://astropedia.astrogeology.usgs.gov/download/Mars/Viking/valles_marineris_enhanced.tif/full.jpg', 'title': 'Valles Marineris Hemisphere Enhanced'}]\n"
     ]
    }
   ],
   "source": [
    "# Find all of the level 3 header information for hemisphere products.  Loop through images based on number of products.\n",
    "hemisphere_image_urls = []\n",
    "\n",
    "products = browser.find_by_css(\"a.product-item h3\")\n",
    "\n",
    "for i in range(len(products)):\n",
    "    # initialize hemisphere dictionary\n",
    "    hemisphere = {}\n",
    "    # click on each product link to get to actual image\n",
    "    browser.find_by_css(\"a.product-item h3\")[i].click()\n",
    "    \n",
    "    # get url (href) for the \"Sample\" image option since full-res images are very large\n",
    "    sample_product = browser.find_link_by_text(\"Sample\").first\n",
    "    hemisphere[\"img_url\"] = sample_product[\"href\"]\n",
    "    \n",
    "    # Get Hemisphere Title\n",
    "    hemisphere[\"title\"] = browser.find_by_css(\"h2.title\").text\n",
    "    \n",
    "    # Append Hemisphere Object to List\n",
    "    hemisphere_image_urls.append(hemisphere)\n",
    "    \n",
    "    # Go back to product screen to move to next product on the page\n",
    "    browser.back()\n",
    "    \n",
    "# print out the hemisphere urls\n",
    "print(hemisphere_image_urls)\n",
    "    "
   ]
  },
  {
   "cell_type": "markdown",
   "metadata": {},
   "source": [
    "**Cerberus**\n",
    "><img src=\"http://astropedia.astrogeology.usgs.gov/download/Mars/Viking/cerberus_enhanced.tif/full.jpg\"\n",
    "\ttitle=\"Cerberus\" width=\"200\" height=\"100\" align = \"left\" /> "
   ]
  },
  {
   "cell_type": "markdown",
   "metadata": {},
   "source": [
    "**Schiaparelli** \n",
    "><img src=\"http://astropedia.astrogeology.usgs.gov/download/Mars/Viking/schiaparelli_enhanced.tif/full.jpg\"\n",
    "\ttitle=\"Schiaparelli\" width=\"200\" height=\"100\" align = \"left\" /> "
   ]
  },
  {
   "cell_type": "markdown",
   "metadata": {},
   "source": [
    "**Syrtis** \n",
    "><img src=\"http://astropedia.astrogeology.usgs.gov/download/Mars/Viking/syrtis_major_enhanced.tif/full.jpg'\"\n",
    "\ttitle=\"Syrtis Major Hemisphere Enhanced\" width=\"200\" height=\"100\" align = \"left\" />   "
   ]
  },
  {
   "cell_type": "markdown",
   "metadata": {},
   "source": [
    "**Valles Marineris** \n",
    "><img src=\"http://astropedia.astrogeology.usgs.gov/download/Mars/Viking/valles_marineris_enhanced/full.jpg\"\n",
    "\ttitle=\"Valles Marineris Hemisphere Enhanced\" width=\"200\" height=\"100\" align = \"left\" /> "
   ]
  }
 ],
 "metadata": {
  "kernelspec": {
   "display_name": "Python 3",
   "language": "python",
   "name": "python3"
  },
  "language_info": {
   "codemirror_mode": {
    "name": "ipython",
    "version": 3
   },
   "file_extension": ".py",
   "mimetype": "text/x-python",
   "name": "python",
   "nbconvert_exporter": "python",
   "pygments_lexer": "ipython3",
   "version": "3.6.9"
  }
 },
 "nbformat": 4,
 "nbformat_minor": 2
}
