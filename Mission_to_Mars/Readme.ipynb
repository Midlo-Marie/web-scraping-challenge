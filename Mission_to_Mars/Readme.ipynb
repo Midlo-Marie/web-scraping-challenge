{
 "cells": [
  {
   "cell_type": "markdown",
   "metadata": {},
   "source": [
    "## *Mission to Mars*\n",
    "\n",
    "> In this assignment, we build a web application that scrapes various websites for data related\n",
    "> to NASA's Mission to Mars and displays the information in a single Web (HTML) page.\n",
    "\n",
    "\n",
    "### Flow control\n",
    "\n",
    "* Jupyter notebook Python script was used to code and develop program to visit web pages\n",
    "    and retrieve data (Mission_to_Mars_Midlomarie.ipynb)\n",
    "* Notebook script was downloaded and converted to Python script to run at the command line, includes\n",
    "    import of splinter to browse webpages, and PyMongo (local connection to MongoDB) to save data in \n",
    "    database document(scrape_mars_Midlomarie.py)\n",
    "* index.html script was designed to display output data about Mars on a single Web page (index.html)\n",
    "* A Flask app, a popular Python web framework, sets up the Web page and calls the Python script\n",
    "    to scrape and insert Mars data in HTML template  (app.py)\n",
    "    "
   ]
  },
  {
   "cell_type": "markdown",
   "metadata": {},
   "source": [
    "### Dependencies needed for Python\n",
    "\n",
    "* from bs4 import BeautifulSoup\n",
    "* from splinter import Browser\n",
    "* import pandas as pd\n",
    "* import datetime as dt\n"
   ]
  },
  {
   "cell_type": "markdown",
   "metadata": {},
   "source": [
    "### Initialize Chrome browser in each scrape call, make sure \"chromedrive.exe\" is in folder with correct path\n",
    "* def init_browser(): \\\n",
    "    exec_path = {'executable_path': \"./chromedriver.exe\" } \\\n",
    "    return Browser('chrome', headless=True, **exec_path)"
   ]
  },
  {
   "cell_type": "markdown",
   "metadata": {},
   "source": [
    "#################################################\n",
    "### MongoDB and Flask Application\n",
    "\n",
    "### Dependencies and Setup, import Python script\n",
    "\\\n",
    "from flask import Flask, render_template, redirect \\\n",
    "from flask_pymongo import PyMongo \\\n",
    "import scrape_mars_Midlomarie \\\n",
    "\n",
    "### Flask Setup\n",
    "\n",
    "app = Flask(__name__)\n",
    "\n",
    "### PyMongo Connection Setup for local connection\n",
    "\\\n",
    "app.config[\"MONGO_URI\"] = \"mongodb://localhost:27017/mars_app\" \\\n",
    "mongo = PyMongo(app)\n"
   ]
  },
  {
   "cell_type": "markdown",
   "metadata": {},
   "source": [
    "### NASA Mars data retrieved and displayed on Web page\n",
    "* most recent news article\n",
    "* NASA/JPL Mars feature image\n",
    "* Mars weather from Twitter account\n",
    "* images of Mars hemispheres showing distinct differences"
   ]
  },
  {
   "cell_type": "markdown",
   "metadata": {},
   "source": [
    "<img src= \"./MissiontoMars_screenshot.png\" \n",
    "    title=\"Final Mars Page\" width=\"400\" height=\"800\" align = \"center\" />"
   ]
  },
  {
   "cell_type": "code",
   "execution_count": null,
   "metadata": {},
   "outputs": [],
   "source": []
  }
 ],
 "metadata": {
  "kernelspec": {
   "display_name": "Python 3",
   "language": "python",
   "name": "python3"
  },
  "language_info": {
   "codemirror_mode": {
    "name": "ipython",
    "version": 3
   },
   "file_extension": ".py",
   "mimetype": "text/x-python",
   "name": "python",
   "nbconvert_exporter": "python",
   "pygments_lexer": "ipython3",
   "version": "3.6.9"
  }
 },
 "nbformat": 4,
 "nbformat_minor": 2
}
